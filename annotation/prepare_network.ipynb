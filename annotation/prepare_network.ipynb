{
 "cells": [
  {
   "cell_type": "code",
   "execution_count": 31,
   "id": "406cfde4-9373-4616-b6b0-2b9a5e22b757",
   "metadata": {},
   "outputs": [],
   "source": [
    "import numpy as np\n",
    "import pandas as pd\n",
    "import os"
   ]
  },
  {
   "cell_type": "code",
   "execution_count": 32,
   "id": "b728fa85-1dbb-4788-a7ca-dc1ca220ce41",
   "metadata": {},
   "outputs": [
    {
     "data": {
      "text/html": [
       "<div>\n",
       "<style scoped>\n",
       "    .dataframe tbody tr th:only-of-type {\n",
       "        vertical-align: middle;\n",
       "    }\n",
       "\n",
       "    .dataframe tbody tr th {\n",
       "        vertical-align: top;\n",
       "    }\n",
       "\n",
       "    .dataframe thead th {\n",
       "        text-align: right;\n",
       "    }\n",
       "</style>\n",
       "<table border=\"1\" class=\"dataframe\">\n",
       "  <thead>\n",
       "    <tr style=\"text-align: right;\">\n",
       "      <th></th>\n",
       "      <th>gene</th>\n",
       "      <th>level_5</th>\n",
       "      <th>level_4</th>\n",
       "      <th>level_3</th>\n",
       "      <th>level_2</th>\n",
       "      <th>level_1</th>\n",
       "      <th>level_0</th>\n",
       "    </tr>\n",
       "  </thead>\n",
       "  <tbody>\n",
       "    <tr>\n",
       "      <th>0</th>\n",
       "      <td>A1CF</td>\n",
       "      <td>397</td>\n",
       "      <td>129</td>\n",
       "      <td>26</td>\n",
       "      <td>14</td>\n",
       "      <td>1</td>\n",
       "      <td>0</td>\n",
       "    </tr>\n",
       "    <tr>\n",
       "      <th>1</th>\n",
       "      <td>AAAS</td>\n",
       "      <td>325</td>\n",
       "      <td>203</td>\n",
       "      <td>67</td>\n",
       "      <td>9</td>\n",
       "      <td>2</td>\n",
       "      <td>0</td>\n",
       "    </tr>\n",
       "    <tr>\n",
       "      <th>2</th>\n",
       "      <td>AAR2</td>\n",
       "      <td>542</td>\n",
       "      <td>126</td>\n",
       "      <td>43</td>\n",
       "      <td>14</td>\n",
       "      <td>1</td>\n",
       "      <td>0</td>\n",
       "    </tr>\n",
       "    <tr>\n",
       "      <th>3</th>\n",
       "      <td>AATF</td>\n",
       "      <td>598</td>\n",
       "      <td>149</td>\n",
       "      <td>43</td>\n",
       "      <td>14</td>\n",
       "      <td>1</td>\n",
       "      <td>0</td>\n",
       "    </tr>\n",
       "    <tr>\n",
       "      <th>4</th>\n",
       "      <td>ABAT</td>\n",
       "      <td>783</td>\n",
       "      <td>129</td>\n",
       "      <td>26</td>\n",
       "      <td>14</td>\n",
       "      <td>1</td>\n",
       "      <td>0</td>\n",
       "    </tr>\n",
       "  </tbody>\n",
       "</table>\n",
       "</div>"
      ],
      "text/plain": [
       "   gene  level_5  level_4  level_3  level_2  level_1  level_0\n",
       "0  A1CF      397      129       26       14        1        0\n",
       "1  AAAS      325      203       67        9        2        0\n",
       "2  AAR2      542      126       43       14        1        0\n",
       "3  AATF      598      149       43       14        1        0\n",
       "4  ABAT      783      129       26       14        1        0"
      ]
     },
     "execution_count": 32,
     "metadata": {},
     "output_type": "execute_result"
    }
   ],
   "source": [
    "df = pd.read_csv('../data/hier.csv')\n",
    "\n",
    "def getLen(dataframe, level):\n",
    "    length = df[f'level_{level}'].max() + 1\n",
    "    return(length)\n",
    "\n",
    "df['level_1'] = df['level_1'] + getLen(df, 0)\n",
    "df['level_2'] = df['level_2'] + getLen(df, 1)\n",
    "df['level_3'] = df['level_3'] + getLen(df, 2)\n",
    "df['level_4'] = df['level_4'] + getLen(df, 3)\n",
    "df['level_5'] = df['level_5'] + getLen(df, 4)\n",
    "\n",
    "df.head()"
   ]
  },
  {
   "cell_type": "code",
   "execution_count": 33,
   "id": "017460f1-03bc-4435-b917-cb88765b9a73",
   "metadata": {},
   "outputs": [],
   "source": [
    "levels = [[],[],[],[],[],[]]\n",
    "for i in range(0, 6):\n",
    "    levels[i].extend(list(df[f'level_{i}'].unique()))\n",
    "    levels[i].sort()"
   ]
  },
  {
   "cell_type": "code",
   "execution_count": 34,
   "id": "1233ff95-c2cf-4b65-b70b-aabddca5b788",
   "metadata": {},
   "outputs": [
    {
     "name": "stdout",
     "output_type": "stream",
     "text": [
      "Size of each level\n",
      "level 0: 1\n",
      "level 1: 2\n",
      "level 2: 14\n",
      "level 3: 53\n",
      "level 4: 152\n",
      "level 5: 657\n"
     ]
    }
   ],
   "source": [
    "print('Size of each level')\n",
    "for i, level in enumerate(levels):\n",
    "    print(f'level {i}: {len(level)}')"
   ]
  },
  {
   "cell_type": "code",
   "execution_count": 35,
   "id": "ba5f1c14-38fc-417c-9ea2-fad717a1c966",
   "metadata": {},
   "outputs": [],
   "source": [
    "genes = {}\n",
    "\n",
    "for i, level in enumerate(levels):\n",
    "    genes[f'level_{i}'] = {}\n",
    "    for node in level:\n",
    "        genes[f'level_{i}'][node] = list(df['gene'][df[f'level_{i}'] == node])"
   ]
  },
  {
   "cell_type": "code",
   "execution_count": 36,
   "id": "27db6f44-0b1b-43aa-917d-28f1e29af30e",
   "metadata": {},
   "outputs": [],
   "source": [
    "frames = []\n",
    "for i in range(5):\n",
    "    cols = df[[f'level_{i}', f'level_{i+1}']]\n",
    "    cols = cols.drop_duplicates(subset=[f'level_{i}', f'level_{i+1}'], keep='first')\n",
    "    cols.rename(columns={f'level_{i}': 'parent', f'level_{i+1}': 'child'}, inplace=True)\n",
    "\n",
    "    frames.append(cols)\n",
    "\n",
    "export = pd.concat(frames)"
   ]
  },
  {
   "cell_type": "code",
   "execution_count": 37,
   "id": "5f09d1e2-05b5-4c18-a384-c4e0182213e2",
   "metadata": {},
   "outputs": [],
   "source": [
    "gene_dict = {\n",
    "    **genes['level_0'],\n",
    "    **genes['level_1'],\n",
    "    **genes['level_2'],\n",
    "    **genes['level_3'],\n",
    "    **genes['level_4'],\n",
    "    **genes['level_5'],\n",
    "}\n",
    "gene_ser = pd.Series(gene_dict)\n",
    "gene_df = pd.DataFrame({'child':gene_ser.index, 'genes':gene_ser.values})"
   ]
  },
  {
   "cell_type": "code",
   "execution_count": 38,
   "id": "38b8c8a5-a667-4c05-a8fe-ec6e29e52202",
   "metadata": {},
   "outputs": [],
   "source": [
    "export['genes'] = ''\n",
    "export['num_genes'] = 0"
   ]
  },
  {
   "cell_type": "code",
   "execution_count": 39,
   "id": "6b63e0d1-896b-4e64-a523-274ffd0f7234",
   "metadata": {},
   "outputs": [
    {
     "data": {
      "text/html": [
       "<div>\n",
       "<style scoped>\n",
       "    .dataframe tbody tr th:only-of-type {\n",
       "        vertical-align: middle;\n",
       "    }\n",
       "\n",
       "    .dataframe tbody tr th {\n",
       "        vertical-align: top;\n",
       "    }\n",
       "\n",
       "    .dataframe thead th {\n",
       "        text-align: right;\n",
       "    }\n",
       "</style>\n",
       "<table border=\"1\" class=\"dataframe\">\n",
       "  <thead>\n",
       "    <tr style=\"text-align: right;\">\n",
       "      <th></th>\n",
       "      <th>parent</th>\n",
       "      <th>child</th>\n",
       "      <th>genes</th>\n",
       "      <th>num_genes</th>\n",
       "    </tr>\n",
       "  </thead>\n",
       "  <tbody>\n",
       "    <tr>\n",
       "      <th>0</th>\n",
       "      <td>0</td>\n",
       "      <td>1</td>\n",
       "      <td>A1CF:AAR2:AATF:ABAT:ABCA2:ABCB6:ABCB8:ABCB9:AB...</td>\n",
       "      <td>4252</td>\n",
       "    </tr>\n",
       "    <tr>\n",
       "      <th>1</th>\n",
       "      <td>0</td>\n",
       "      <td>2</td>\n",
       "      <td>AAAS:ACTA1:ACTA2:ACTB:ACTC1:ACTG1:ACTG2:ADRM1:...</td>\n",
       "      <td>716</td>\n",
       "    </tr>\n",
       "    <tr>\n",
       "      <th>0</th>\n",
       "      <td>1</td>\n",
       "      <td>14</td>\n",
       "      <td>A1CF:AAR2:AATF:ABAT:ABCA2:ABCB6:ABCB8:ABCB9:AB...</td>\n",
       "      <td>4252</td>\n",
       "    </tr>\n",
       "    <tr>\n",
       "      <th>1</th>\n",
       "      <td>2</td>\n",
       "      <td>9</td>\n",
       "      <td>AAAS:AMBRA1:ARPC1A:ARPC1B:ATG16L1:ATG16L2:BOP1...</td>\n",
       "      <td>86</td>\n",
       "    </tr>\n",
       "    <tr>\n",
       "      <th>25</th>\n",
       "      <td>2</td>\n",
       "      <td>13</td>\n",
       "      <td>ACTA1:ACTA2:ACTB:ACTC1:ACTG1:ACTG2:ANAPC11:AP1...</td>\n",
       "      <td>217</td>\n",
       "    </tr>\n",
       "  </tbody>\n",
       "</table>\n",
       "</div>"
      ],
      "text/plain": [
       "    parent  child                                              genes  \\\n",
       "0        0      1  A1CF:AAR2:AATF:ABAT:ABCA2:ABCB6:ABCB8:ABCB9:AB...   \n",
       "1        0      2  AAAS:ACTA1:ACTA2:ACTB:ACTC1:ACTG1:ACTG2:ADRM1:...   \n",
       "0        1     14  A1CF:AAR2:AATF:ABAT:ABCA2:ABCB6:ABCB8:ABCB9:AB...   \n",
       "1        2      9  AAAS:AMBRA1:ARPC1A:ARPC1B:ATG16L1:ATG16L2:BOP1...   \n",
       "25       2     13  ACTA1:ACTA2:ACTB:ACTC1:ACTG1:ACTG2:ANAPC11:AP1...   \n",
       "\n",
       "    num_genes  \n",
       "0        4252  \n",
       "1         716  \n",
       "0        4252  \n",
       "1          86  \n",
       "25        217  "
      ]
     },
     "execution_count": 39,
     "metadata": {},
     "output_type": "execute_result"
    }
   ],
   "source": [
    "children = gene_dict.keys()\n",
    "for child in children:\n",
    "    export.loc[exp['child'] == child, 'num_genes'] = len(gene_dict[child])\n",
    "    if child in gene_dict.keys():\n",
    "        export.loc[exp['child'] == child, 'genes'] = ':'.join(gene_dict[child])\n",
    "\n",
    "export.head()"
   ]
  },
  {
   "cell_type": "code",
   "execution_count": 41,
   "id": "1db4599a-2758-4f17-84d7-daa8285f1f11",
   "metadata": {},
   "outputs": [],
   "source": [
    "# Export list of genes to csv file\n",
    "#exp.to_csv(\"cytoscape_input.csv\", index=False, header=True)"
   ]
  },
  {
   "cell_type": "code",
   "execution_count": null,
   "id": "4fded361-e817-4711-a965-46db20d136f1",
   "metadata": {},
   "outputs": [],
   "source": []
  }
 ],
 "metadata": {
  "kernelspec": {
   "display_name": "Python 3 (ipykernel)",
   "language": "python",
   "name": "python3"
  },
  "language_info": {
   "codemirror_mode": {
    "name": "ipython",
    "version": 3
   },
   "file_extension": ".py",
   "mimetype": "text/x-python",
   "name": "python",
   "nbconvert_exporter": "python",
   "pygments_lexer": "ipython3",
   "version": "3.9.18"
  }
 },
 "nbformat": 4,
 "nbformat_minor": 5
}
